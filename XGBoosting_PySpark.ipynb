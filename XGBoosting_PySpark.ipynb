{
 "cells": [
  {
   "cell_type": "code",
   "execution_count": 1,
   "id": "02117428",
   "metadata": {},
   "outputs": [],
   "source": [
    "# pip install optuna"
   ]
  },
  {
   "cell_type": "code",
   "execution_count": 2,
   "id": "7756b1ec",
   "metadata": {},
   "outputs": [],
   "source": [
    "# pip install xgboost"
   ]
  },
  {
   "cell_type": "code",
   "execution_count": 3,
   "id": "4359ea90",
   "metadata": {},
   "outputs": [],
   "source": [
    "# pip install xgboost4j-spark"
   ]
  },
  {
   "cell_type": "code",
   "execution_count": 4,
   "id": "43690666",
   "metadata": {},
   "outputs": [],
   "source": [
    "# Evita erros nas iterações: \n",
    "import os\n",
    "import sys\n",
    "\n",
    "os.environ['PYSPARK_PYTHON'] = sys.executable\n",
    "os.environ['PYSPARK_DRIVER_PYTHON'] = sys.executable"
   ]
  },
  {
   "cell_type": "code",
   "execution_count": 5,
   "id": "07fd286e",
   "metadata": {},
   "outputs": [],
   "source": [
    "# inicializa sessão no spark com nome importação\n",
    "import findspark, pyspark\n",
    "from pyspark.sql import SparkSession\n",
    "findspark.init() # inicializa interface pyspark jupyter\n",
    "spark = SparkSession.builder.appName(\"XGBoostImob\").getOrCreate()\n",
    "#inicializa sessão no spark com nome importação"
   ]
  },
  {
   "cell_type": "code",
   "execution_count": 6,
   "id": "39019c34",
   "metadata": {},
   "outputs": [],
   "source": [
    "# Imports Chat GPT:\n",
    "import optuna\n",
    "import pandas as pd\n",
    "import numpy as np\n",
    "from pyspark.ml.feature import VectorAssembler\n",
    "#from pyspark.ml.classification import XGBoostClassifier\n",
    "from xgboost.spark import SparkXGBRegressor\n",
    "from pyspark.ml.evaluation import BinaryClassificationEvaluator\n",
    "from pyspark.ml.tuning import CrossValidator, ParamGridBuilder\n",
    "from pyspark.ml.feature import RFormula\n",
    "from pyspark.ml.feature import StringIndexer\n",
    "from pyspark.ml.classification import LogisticRegression\n",
    "from pyspark.ml.evaluation import MulticlassClassificationEvaluator\n",
    "from pyspark.ml.classification import RandomForestClassifier\n",
    "from pyspark.ml.evaluation import MulticlassClassificationEvaluator\n",
    "from pyspark.ml import Pipeline\n",
    "from pyspark.ml.feature import ChiSqSelector\n",
    "from pyspark.ml.feature import StringIndexer\n",
    "from pyspark.ml.feature import RFormula\n",
    "from pyspark.sql.functions import col,isnan,when,count,countDistinct\n",
    "from pyspark.sql.types import DoubleType"
   ]
  },
  {
   "cell_type": "code",
   "execution_count": 7,
   "id": "95e52175",
   "metadata": {},
   "outputs": [
    {
     "name": "stdout",
     "output_type": "stream",
     "text": [
      "+--------+----+--------+---------+-------+--------+---------+--------+---------------+---------------+-------+--------+----------------+\n",
      "|   price|area|bedrooms|bathrooms|stories|mainroad|guestroom|basement|hotwaterheating|airconditioning|parking|prefarea|furnishingstatus|\n",
      "+--------+----+--------+---------+-------+--------+---------+--------+---------------+---------------+-------+--------+----------------+\n",
      "|13300000|7420|       4|        2|      3|     yes|       no|      no|             no|            yes|      2|     yes|       furnished|\n",
      "|12250000|8960|       4|        4|      4|     yes|       no|      no|             no|            yes|      3|      no|       furnished|\n",
      "|12250000|9960|       3|        2|      2|     yes|       no|     yes|             no|             no|      2|     yes|  semi-furnished|\n",
      "|12215000|7500|       4|        2|      2|     yes|       no|     yes|             no|            yes|      3|     yes|       furnished|\n",
      "|11410000|7420|       4|        1|      2|     yes|      yes|     yes|             no|            yes|      2|      no|       furnished|\n",
      "+--------+----+--------+---------+-------+--------+---------+--------+---------------+---------------+-------+--------+----------------+\n",
      "only showing top 5 rows\n",
      "\n"
     ]
    }
   ],
   "source": [
    "# Carregando dados:\n",
    "casas = spark.read.csv(\"Housing.csv\", header=True, inferSchema=True, sep=\",\")\n",
    "casas.show(5)"
   ]
  },
  {
   "cell_type": "code",
   "execution_count": 8,
   "id": "e42b5cd5",
   "metadata": {},
   "outputs": [],
   "source": [
    "# Schema:\n",
    "# casas.printSchema()"
   ]
  },
  {
   "cell_type": "code",
   "execution_count": 9,
   "id": "05faacc5",
   "metadata": {},
   "outputs": [],
   "source": [
    "# Descritiva:\n",
    "# casas.summary().show(vertical=True)"
   ]
  },
  {
   "cell_type": "code",
   "execution_count": 10,
   "id": "55a922b9",
   "metadata": {},
   "outputs": [],
   "source": [
    "# Contagemde nulos e vazios ou Nan:\n",
    "# casas_nulls = casas.select([count(when(col(c).contains('None') | \\\n",
    "#                             col(c).contains('NULL') | \\\n",
    "#                             (col(c) == '' ) | \\\n",
    "#                             col(c).isNull() | \\\n",
    "#                             isnan(c), c \n",
    "#                            )).alias(c)\n",
    "#                     for c in casas.columns])\n",
    "# casas_nulls.show()"
   ]
  },
  {
   "cell_type": "code",
   "execution_count": 11,
   "id": "2e9a6558",
   "metadata": {},
   "outputs": [],
   "source": [
    "# Contagem de categorias por coluna:\n",
    "# casas.agg(*(countDistinct(col(c)).alias(c) for c in casas.columns)).show(vertical=True)"
   ]
  },
  {
   "cell_type": "code",
   "execution_count": 12,
   "id": "345a70c9",
   "metadata": {},
   "outputs": [],
   "source": [
    "# Instancia o RFormula: Vetorização das preditoras (independentes = features):\n",
    "# Rformula = RFormula(formula=\"price ~ .\", featuresCol=\"independente\", labelCol=\"dependente\")\n",
    "# casasrf = Rformula.fit(casas).transform(casas)\n",
    "# casasrf.select(\"independente\",\"dependente\").show(5, truncate=False)"
   ]
  },
  {
   "cell_type": "code",
   "execution_count": 13,
   "id": "b2174e69",
   "metadata": {},
   "outputs": [],
   "source": [
    "# Seleção de atributos com UnivariateFeatureSelector\n",
    "# from pyspark.ml.feature import UnivariateFeatureSelector\n",
    "# selector = UnivariateFeatureSelector(featuresCol= \"independente\", outputCol=\"selecionados\", \n",
    "#                                      labelCol=\"dependente\")\n",
    "# selector.setFeatureType(\"categorical\").setLabelType(\"categorical\").setSelectionThreshold(5)\n",
    "# casasuni_modelo = selector.fit(casasrf)\n",
    "# features_selecionadas = casasuni_modelo.selectedFeatures\n",
    "# nomes_features_selecionadas = [casasrf.columns[i] for i in features_selecionadas]\n",
    "# print(\"Features selecionadas:\",nomes_features_selecionadas)\n",
    "# casasuni = casasuni_modelo.transform(casasrf)\n",
    "# casasuni.select(\"selecionados\").show(5, truncate=False)"
   ]
  },
  {
   "cell_type": "code",
   "execution_count": 14,
   "id": "ced89dca",
   "metadata": {},
   "outputs": [],
   "source": [
    "# Instancia o RFormula: Vetorização das preditoras (independentes = features):\n",
    "# from pyspark.ml.feature import RFormula\n",
    "rformula = RFormula(formula= \"price ~ bedrooms + bathrooms + mainroad + parking + hotwaterheating\", \n",
    "                    featuresCol=\"independente\", labelCol=\"dependente\")\n",
    "casasrffeatselec = rformula.fit(casas).transform(casas)"
   ]
  },
  {
   "cell_type": "code",
   "execution_count": 15,
   "id": "8acb280e",
   "metadata": {},
   "outputs": [],
   "source": [
    "# Define a métrica de avaliação:\n",
    "from pyspark.ml.evaluation import RegressionEvaluator\n",
    "evaluator = RegressionEvaluator(labelCol=\"dependente\",predictionCol=\"prediction\", metricName=\"rmse\")"
   ]
  },
  {
   "cell_type": "code",
   "execution_count": 16,
   "id": "935fafc9",
   "metadata": {},
   "outputs": [],
   "source": [
    "# Divide em treino e teste:\n",
    "casasTreino, casasTeste = casas.randomSplit([0.7,0.3], seed=42)"
   ]
  },
  {
   "cell_type": "code",
   "execution_count": 17,
   "id": "2b13bdb8",
   "metadata": {},
   "outputs": [],
   "source": [
    "from pyspark.ml.regression import GBTRegressor\n",
    "from pyspark.ml import Pipeline"
   ]
  },
  {
   "cell_type": "code",
   "execution_count": 18,
   "id": "6a3a25fe",
   "metadata": {},
   "outputs": [],
   "source": [
    "# Função de otimização para o Optuna\n",
    "def objective(trial):\n",
    "        # Hiperparâmetros a serem otimizados\n",
    "        params = {\n",
    "            'maxDepth': trial.suggest_int('maxDepth', 3, 10),\n",
    "            'maxBins': trial.suggest_int('maxBins', 32, 128),\n",
    "            'maxIter': trial.suggest_int('numTrees', 50, 300),\n",
    "            'stepSize': trial.suggest_float('stepSize', 0.01, 0.3, log=True)  # Substitui learningRate por stepSize,\n",
    "        }\n",
    "        # Defina os hiperparâmetros no modelo GBTRegressor\n",
    "        gbt = GBTRegressor(**params, featuresCol=\"independente\", labelCol=\"dependente\")\n",
    "\n",
    "        # Defina o modelo no pipeline\n",
    "        pipeline = Pipeline(stages=[rformula, gbt])\n",
    "\n",
    "        # Crie um grid de hiperparâmetros para a validação cruzada\n",
    "        param_grid = ParamGridBuilder().addGrid(gbt.maxDepth, \n",
    "                                                [params['maxDepth']]).addGrid(gbt.maxBins, \n",
    "                                                                              [params['maxBins']]).build()\n",
    "        # Crie um validador cruzado\n",
    "        cv = CrossValidator(estimator=pipeline, estimatorParamMaps=param_grid, evaluator=evaluator, numFolds=5)\n",
    "\n",
    "        # Ajuste o modelo aos dados de treinamento usando a validação cruzada\n",
    "        model = cv.fit(casasTreino)\n",
    "\n",
    "        # Faça previsões no conjunto de teste\n",
    "        test_predictions = model.transform(casasTeste)\n",
    "\n",
    "        # Calcule a métrica de desempenho (RMSE)\n",
    "        rmse = evaluator.evaluate(test_predictions)\n",
    "        return rmse"
   ]
  },
  {
   "cell_type": "code",
   "execution_count": 19,
   "id": "f1ef20ad",
   "metadata": {},
   "outputs": [
    {
     "name": "stderr",
     "output_type": "stream",
     "text": [
      "[I 2023-11-02 23:59:32,213] A new study created in memory with name: no-name-1e27ca75-8c02-444e-9657-1bb1ab8baee3\n",
      "[I 2023-11-03 00:00:51,442] Trial 0 finished with value: 1434307.5120519768 and parameters: {'maxDepth': 10, 'maxBins': 63, 'numTrees': 104, 'stepSize': 0.015010827136459055}. Best is trial 0 with value: 1434307.5120519768.\n",
      "[I 2023-11-03 00:01:53,826] Trial 1 finished with value: 1434307.512051977 and parameters: {'maxDepth': 10, 'maxBins': 82, 'numTrees': 92, 'stepSize': 0.049582937917819855}. Best is trial 0 with value: 1434307.5120519768.\n",
      "[I 2023-11-03 00:04:29,806] Trial 2 finished with value: 1434034.0147744592 and parameters: {'maxDepth': 3, 'maxBins': 44, 'numTrees': 235, 'stepSize': 0.27190192769344984}. Best is trial 2 with value: 1434034.0147744592.\n",
      "[I 2023-11-03 00:07:20,024] Trial 3 finished with value: 1434307.5120519765 and parameters: {'maxDepth': 9, 'maxBins': 105, 'numTrees': 220, 'stepSize': 0.07958625435438539}. Best is trial 2 with value: 1434034.0147744592.\n",
      "[I 2023-11-03 00:09:41,633] Trial 4 finished with value: 1432379.2650751646 and parameters: {'maxDepth': 6, 'maxBins': 125, 'numTrees': 120, 'stepSize': 0.06731092953914285}. Best is trial 4 with value: 1432379.2650751646.\n",
      "[I 2023-11-03 00:13:35,516] Trial 5 finished with value: 1432263.2398219816 and parameters: {'maxDepth': 5, 'maxBins': 65, 'numTrees': 209, 'stepSize': 0.010094900145494783}. Best is trial 5 with value: 1432263.2398219816.\n",
      "[I 2023-11-03 00:16:49,430] Trial 6 finished with value: 1443447.9472158703 and parameters: {'maxDepth': 5, 'maxBins': 72, 'numTrees': 182, 'stepSize': 0.1071401298259215}. Best is trial 5 with value: 1432263.2398219816.\n",
      "[I 2023-11-03 00:20:21,818] Trial 7 finished with value: 1441195.5133306677 and parameters: {'maxDepth': 4, 'maxBins': 61, 'numTrees': 238, 'stepSize': 0.10314109216439313}. Best is trial 5 with value: 1432263.2398219816.\n",
      "[I 2023-11-03 00:28:51,402] Trial 8 finished with value: 1433371.5920952777 and parameters: {'maxDepth': 7, 'maxBins': 46, 'numTrees': 257, 'stepSize': 0.04400451357391746}. Best is trial 5 with value: 1432263.2398219816.\n",
      "[I 2023-11-03 00:30:59,562] Trial 9 finished with value: 1433727.9183964087 and parameters: {'maxDepth': 7, 'maxBins': 37, 'numTrees': 177, 'stepSize': 0.1855443247509907}. Best is trial 5 with value: 1432263.2398219816.\n",
      "[W 2023-11-03 00:31:28,582] Trial 10 failed with parameters: {'maxDepth': 3, 'maxBins': 92, 'numTrees': 285, 'stepSize': 0.01115747273341633} because of the following error: The value None could not be cast to float..\n",
      "[W 2023-11-03 00:31:28,582] Trial 10 failed with value None.\n",
      "ERROR:root:Exception while sending command.\n",
      "Traceback (most recent call last):\n",
      "  File \"C:\\Users\\felip\\anaconda3\\lib\\site-packages\\py4j\\clientserver.py\", line 511, in send_command\n",
      "    answer = smart_decode(self.stream.readline()[:-1])\n",
      "  File \"C:\\Users\\felip\\anaconda3\\lib\\socket.py\", line 704, in readinto\n",
      "    return self._sock.recv_into(b)\n",
      "ConnectionResetError: [WinError 10054] Foi forçado o cancelamento de uma conexão existente pelo host remoto\n",
      "\n",
      "During handling of the above exception, another exception occurred:\n",
      "\n",
      "Traceback (most recent call last):\n",
      "  File \"C:\\Users\\felip\\anaconda3\\lib\\site-packages\\py4j\\java_gateway.py\", line 1038, in send_command\n",
      "    response = connection.send_command(command)\n",
      "  File \"C:\\Users\\felip\\anaconda3\\lib\\site-packages\\py4j\\clientserver.py\", line 539, in send_command\n",
      "    raise Py4JNetworkError(\n",
      "py4j.protocol.Py4JNetworkError: Error while sending or receiving\n",
      "ERROR:root:Exception while sending command.\n",
      "Traceback (most recent call last):\n",
      "  File \"C:\\Users\\felip\\anaconda3\\lib\\site-packages\\py4j\\clientserver.py\", line 511, in send_command\n",
      "    answer = smart_decode(self.stream.readline()[:-1])\n",
      "  File \"C:\\Users\\felip\\anaconda3\\lib\\socket.py\", line 704, in readinto\n",
      "    return self._sock.recv_into(b)\n",
      "ConnectionResetError: [WinError 10054] Foi forçado o cancelamento de uma conexão existente pelo host remoto\n",
      "\n",
      "During handling of the above exception, another exception occurred:\n",
      "\n",
      "Traceback (most recent call last):\n",
      "  File \"C:\\Users\\felip\\anaconda3\\lib\\site-packages\\py4j\\java_gateway.py\", line 1038, in send_command\n",
      "    response = connection.send_command(command)\n",
      "  File \"C:\\Users\\felip\\anaconda3\\lib\\site-packages\\py4j\\clientserver.py\", line 539, in send_command\n",
      "    raise Py4JNetworkError(\n",
      "py4j.protocol.Py4JNetworkError: Error while sending or receiving\n",
      "[W 2023-11-03 00:31:29,166] Trial 11 failed with parameters: {'maxDepth': 3, 'maxBins': 90, 'numTrees': 290, 'stepSize': 0.012894325998749767} because of the following error: The value None could not be cast to float..\n",
      "[W 2023-11-03 00:31:29,166] Trial 11 failed with value None.\n",
      "[W 2023-11-03 00:31:31,231] Trial 12 failed with parameters: {'maxDepth': 3, 'maxBins': 92, 'numTrees': 297, 'stepSize': 0.010634436695407016} because of the following error: The value None could not be cast to float..\n",
      "[W 2023-11-03 00:31:31,232] Trial 12 failed with value None.\n",
      "[W 2023-11-03 00:31:33,264] Trial 13 failed with parameters: {'maxDepth': 3, 'maxBins': 97, 'numTrees': 297, 'stepSize': 0.01000894780373065} because of the following error: The value None could not be cast to float..\n",
      "[W 2023-11-03 00:31:33,265] Trial 13 failed with value None.\n",
      "[W 2023-11-03 00:31:35,313] Trial 14 failed with parameters: {'maxDepth': 3, 'maxBins': 91, 'numTrees': 282, 'stepSize': 0.013253361657512449} because of the following error: The value None could not be cast to float..\n",
      "[W 2023-11-03 00:31:35,315] Trial 14 failed with value None.\n",
      "[W 2023-11-03 00:31:37,363] Trial 15 failed with parameters: {'maxDepth': 3, 'maxBins': 91, 'numTrees': 138, 'stepSize': 0.012544143684593423} because of the following error: The value None could not be cast to float..\n",
      "[W 2023-11-03 00:31:37,364] Trial 15 failed with value None.\n",
      "[W 2023-11-03 00:31:39,414] Trial 16 failed with parameters: {'maxDepth': 3, 'maxBins': 90, 'numTrees': 300, 'stepSize': 0.012017447971439672} because of the following error: The value None could not be cast to float..\n",
      "[W 2023-11-03 00:31:39,415] Trial 16 failed with value None.\n",
      "[W 2023-11-03 00:31:41,462] Trial 17 failed with parameters: {'maxDepth': 3, 'maxBins': 88, 'numTrees': 300, 'stepSize': 0.011861426555360589} because of the following error: The value None could not be cast to float..\n",
      "[W 2023-11-03 00:31:41,463] Trial 17 failed with value None.\n",
      "[W 2023-11-03 00:31:43,526] Trial 18 failed with parameters: {'maxDepth': 3, 'maxBins': 91, 'numTrees': 298, 'stepSize': 0.0128185295027767} because of the following error: The value None could not be cast to float..\n",
      "[W 2023-11-03 00:31:43,526] Trial 18 failed with value None.\n",
      "[W 2023-11-03 00:31:45,589] Trial 19 failed with parameters: {'maxDepth': 3, 'maxBins': 91, 'numTrees': 149, 'stepSize': 0.010038436717732274} because of the following error: The value None could not be cast to float..\n",
      "[W 2023-11-03 00:31:45,589] Trial 19 failed with value None.\n",
      "[W 2023-11-03 00:31:47,619] Trial 20 failed with parameters: {'maxDepth': 3, 'maxBins': 90, 'numTrees': 298, 'stepSize': 0.01055023315683675} because of the following error: The value None could not be cast to float..\n",
      "[W 2023-11-03 00:31:47,619] Trial 20 failed with value None.\n",
      "[W 2023-11-03 00:31:49,667] Trial 21 failed with parameters: {'maxDepth': 3, 'maxBins': 91, 'numTrees': 299, 'stepSize': 0.0102009977630275} because of the following error: The value None could not be cast to float..\n",
      "[W 2023-11-03 00:31:49,667] Trial 21 failed with value None.\n",
      "[W 2023-11-03 00:31:51,698] Trial 22 failed with parameters: {'maxDepth': 3, 'maxBins': 93, 'numTrees': 285, 'stepSize': 0.011417958618662715} because of the following error: The value None could not be cast to float..\n",
      "[W 2023-11-03 00:31:51,698] Trial 22 failed with value None.\n",
      "[W 2023-11-03 00:31:53,761] Trial 23 failed with parameters: {'maxDepth': 3, 'maxBins': 92, 'numTrees': 298, 'stepSize': 0.010937612827166557} because of the following error: The value None could not be cast to float..\n",
      "[W 2023-11-03 00:31:53,762] Trial 23 failed with value None.\n",
      "[W 2023-11-03 00:31:55,812] Trial 24 failed with parameters: {'maxDepth': 3, 'maxBins': 97, 'numTrees': 290, 'stepSize': 0.010953437491219024} because of the following error: The value None could not be cast to float..\n"
     ]
    },
    {
     "name": "stderr",
     "output_type": "stream",
     "text": [
      "[W 2023-11-03 00:31:55,812] Trial 24 failed with value None.\n",
      "[W 2023-11-03 00:31:57,862] Trial 25 failed with parameters: {'maxDepth': 3, 'maxBins': 91, 'numTrees': 293, 'stepSize': 0.011023395745164767} because of the following error: The value None could not be cast to float..\n",
      "[W 2023-11-03 00:31:57,862] Trial 25 failed with value None.\n",
      "[W 2023-11-03 00:31:59,895] Trial 26 failed with parameters: {'maxDepth': 3, 'maxBins': 94, 'numTrees': 295, 'stepSize': 0.011742040021247156} because of the following error: The value None could not be cast to float..\n",
      "[W 2023-11-03 00:31:59,895] Trial 26 failed with value None.\n",
      "[W 2023-11-03 00:32:01,945] Trial 27 failed with parameters: {'maxDepth': 3, 'maxBins': 87, 'numTrees': 298, 'stepSize': 0.010095489563754565} because of the following error: The value None could not be cast to float..\n",
      "[W 2023-11-03 00:32:01,947] Trial 27 failed with value None.\n",
      "[W 2023-11-03 00:32:03,993] Trial 28 failed with parameters: {'maxDepth': 3, 'maxBins': 93, 'numTrees': 292, 'stepSize': 0.010021873257912811} because of the following error: The value None could not be cast to float..\n",
      "[W 2023-11-03 00:32:03,994] Trial 28 failed with value None.\n",
      "[W 2023-11-03 00:32:06,044] Trial 29 failed with parameters: {'maxDepth': 3, 'maxBins': 90, 'numTrees': 292, 'stepSize': 0.01003831725176746} because of the following error: The value None could not be cast to float..\n",
      "[W 2023-11-03 00:32:06,044] Trial 29 failed with value None.\n",
      "[W 2023-11-03 00:32:08,093] Trial 30 failed with parameters: {'maxDepth': 3, 'maxBins': 91, 'numTrees': 285, 'stepSize': 0.010677898889118704} because of the following error: The value None could not be cast to float..\n",
      "[W 2023-11-03 00:32:08,094] Trial 30 failed with value None.\n",
      "[W 2023-11-03 00:32:10,144] Trial 31 failed with parameters: {'maxDepth': 3, 'maxBins': 85, 'numTrees': 297, 'stepSize': 0.011489956526944116} because of the following error: The value None could not be cast to float..\n",
      "[W 2023-11-03 00:32:10,144] Trial 31 failed with value None.\n",
      "[W 2023-11-03 00:32:12,193] Trial 32 failed with parameters: {'maxDepth': 3, 'maxBins': 91, 'numTrees': 148, 'stepSize': 0.010025305978451632} because of the following error: The value None could not be cast to float..\n",
      "[W 2023-11-03 00:32:12,193] Trial 32 failed with value None.\n",
      "[W 2023-11-03 00:32:14,244] Trial 33 failed with parameters: {'maxDepth': 3, 'maxBins': 88, 'numTrees': 295, 'stepSize': 0.010925845675262478} because of the following error: The value None could not be cast to float..\n",
      "[W 2023-11-03 00:32:14,244] Trial 33 failed with value None.\n",
      "[W 2023-11-03 00:32:16,309] Trial 34 failed with parameters: {'maxDepth': 3, 'maxBins': 99, 'numTrees': 290, 'stepSize': 0.012560040357357383} because of the following error: The value None could not be cast to float..\n",
      "[W 2023-11-03 00:32:16,310] Trial 34 failed with value None.\n",
      "[W 2023-11-03 00:32:18,376] Trial 35 failed with parameters: {'maxDepth': 3, 'maxBins': 98, 'numTrees': 271, 'stepSize': 0.011872727604719488} because of the following error: The value None could not be cast to float..\n",
      "[W 2023-11-03 00:32:18,376] Trial 35 failed with value None.\n",
      "[W 2023-11-03 00:32:20,425] Trial 36 failed with parameters: {'maxDepth': 3, 'maxBins': 88, 'numTrees': 292, 'stepSize': 0.010759069555130577} because of the following error: The value None could not be cast to float..\n",
      "[W 2023-11-03 00:32:20,426] Trial 36 failed with value None.\n",
      "[W 2023-11-03 00:32:22,459] Trial 37 failed with parameters: {'maxDepth': 3, 'maxBins': 89, 'numTrees': 299, 'stepSize': 0.011276460375894162} because of the following error: The value None could not be cast to float..\n",
      "[W 2023-11-03 00:32:22,459] Trial 37 failed with value None.\n",
      "[W 2023-11-03 00:32:24,490] Trial 38 failed with parameters: {'maxDepth': 3, 'maxBins': 92, 'numTrees': 299, 'stepSize': 0.010505534206656541} because of the following error: The value None could not be cast to float..\n",
      "[W 2023-11-03 00:32:24,492] Trial 38 failed with value None.\n",
      "[W 2023-11-03 00:32:26,541] Trial 39 failed with parameters: {'maxDepth': 3, 'maxBins': 89, 'numTrees': 277, 'stepSize': 0.011030764054454998} because of the following error: The value None could not be cast to float..\n",
      "[W 2023-11-03 00:32:26,542] Trial 39 failed with value None.\n",
      "[W 2023-11-03 00:32:28,591] Trial 40 failed with parameters: {'maxDepth': 3, 'maxBins': 92, 'numTrees': 300, 'stepSize': 0.010226381225308095} because of the following error: The value None could not be cast to float..\n",
      "[W 2023-11-03 00:32:28,591] Trial 40 failed with value None.\n",
      "[W 2023-11-03 00:32:30,641] Trial 41 failed with parameters: {'maxDepth': 3, 'maxBins': 95, 'numTrees': 296, 'stepSize': 0.011805045538416306} because of the following error: The value None could not be cast to float..\n",
      "[W 2023-11-03 00:32:30,641] Trial 41 failed with value None.\n",
      "[W 2023-11-03 00:32:32,691] Trial 42 failed with parameters: {'maxDepth': 3, 'maxBins': 95, 'numTrees': 51, 'stepSize': 0.010155102131872847} because of the following error: The value None could not be cast to float..\n",
      "[W 2023-11-03 00:32:32,691] Trial 42 failed with value None.\n",
      "[W 2023-11-03 00:32:34,741] Trial 43 failed with parameters: {'maxDepth': 3, 'maxBins': 94, 'numTrees': 297, 'stepSize': 0.010135484589377677} because of the following error: The value None could not be cast to float..\n",
      "[W 2023-11-03 00:32:34,741] Trial 43 failed with value None.\n",
      "[W 2023-11-03 00:32:36,790] Trial 44 failed with parameters: {'maxDepth': 3, 'maxBins': 91, 'numTrees': 287, 'stepSize': 0.010042909560514844} because of the following error: The value None could not be cast to float..\n",
      "[W 2023-11-03 00:32:36,790] Trial 44 failed with value None.\n",
      "[W 2023-11-03 00:32:38,840] Trial 45 failed with parameters: {'maxDepth': 3, 'maxBins': 91, 'numTrees': 277, 'stepSize': 0.01179701012528955} because of the following error: The value None could not be cast to float..\n",
      "[W 2023-11-03 00:32:38,840] Trial 45 failed with value None.\n",
      "[W 2023-11-03 00:32:40,889] Trial 46 failed with parameters: {'maxDepth': 3, 'maxBins': 91, 'numTrees': 280, 'stepSize': 0.010291280786686235} because of the following error: The value None could not be cast to float..\n",
      "[W 2023-11-03 00:32:40,890] Trial 46 failed with value None.\n",
      "[W 2023-11-03 00:32:42,928] Trial 47 failed with parameters: {'maxDepth': 5, 'maxBins': 87, 'numTrees': 277, 'stepSize': 0.011480744225463666} because of the following error: The value None could not be cast to float..\n",
      "[W 2023-11-03 00:32:42,928] Trial 47 failed with value None.\n",
      "[W 2023-11-03 00:32:44,973] Trial 48 failed with parameters: {'maxDepth': 3, 'maxBins': 91, 'numTrees': 146, 'stepSize': 0.01422430660640179} because of the following error: The value None could not be cast to float..\n",
      "[W 2023-11-03 00:32:44,973] Trial 48 failed with value None.\n",
      "[W 2023-11-03 00:32:47,022] Trial 49 failed with parameters: {'maxDepth': 3, 'maxBins': 97, 'numTrees': 296, 'stepSize': 0.010209139960693142} because of the following error: The value None could not be cast to float..\n",
      "[W 2023-11-03 00:32:47,022] Trial 49 failed with value None.\n",
      "[W 2023-11-03 00:32:49,056] Trial 50 failed with parameters: {'maxDepth': 3, 'maxBins': 88, 'numTrees': 296, 'stepSize': 0.010616392642894216} because of the following error: The value None could not be cast to float..\n",
      "[W 2023-11-03 00:32:49,056] Trial 50 failed with value None.\n",
      "[W 2023-11-03 00:32:51,104] Trial 51 failed with parameters: {'maxDepth': 3, 'maxBins': 97, 'numTrees': 278, 'stepSize': 0.010892782122815033} because of the following error: The value None could not be cast to float..\n",
      "[W 2023-11-03 00:32:51,105] Trial 51 failed with value None.\n",
      "[W 2023-11-03 00:32:53,138] Trial 52 failed with parameters: {'maxDepth': 3, 'maxBins': 92, 'numTrees': 299, 'stepSize': 0.012390401429418467} because of the following error: The value None could not be cast to float..\n",
      "[W 2023-11-03 00:32:53,138] Trial 52 failed with value None.\n",
      "[W 2023-11-03 00:32:55,188] Trial 53 failed with parameters: {'maxDepth': 3, 'maxBins': 87, 'numTrees': 295, 'stepSize': 0.014696002385573267} because of the following error: The value None could not be cast to float..\n",
      "[W 2023-11-03 00:32:55,188] Trial 53 failed with value None.\n",
      "[W 2023-11-03 00:32:57,237] Trial 54 failed with parameters: {'maxDepth': 3, 'maxBins': 92, 'numTrees': 296, 'stepSize': 0.01021755583568632} because of the following error: The value None could not be cast to float..\n"
     ]
    },
    {
     "name": "stderr",
     "output_type": "stream",
     "text": [
      "[W 2023-11-03 00:32:57,237] Trial 54 failed with value None.\n",
      "[W 2023-11-03 00:32:59,287] Trial 55 failed with parameters: {'maxDepth': 3, 'maxBins': 87, 'numTrees': 291, 'stepSize': 0.011944754802956932} because of the following error: The value None could not be cast to float..\n",
      "[W 2023-11-03 00:32:59,287] Trial 55 failed with value None.\n",
      "[W 2023-11-03 00:33:01,337] Trial 56 failed with parameters: {'maxDepth': 3, 'maxBins': 90, 'numTrees': 299, 'stepSize': 0.01126494212455587} because of the following error: The value None could not be cast to float..\n",
      "[W 2023-11-03 00:33:01,337] Trial 56 failed with value None.\n",
      "[W 2023-11-03 00:33:03,386] Trial 57 failed with parameters: {'maxDepth': 3, 'maxBins': 96, 'numTrees': 291, 'stepSize': 0.010562542635474551} because of the following error: The value None could not be cast to float..\n",
      "[W 2023-11-03 00:33:03,387] Trial 57 failed with value None.\n",
      "[W 2023-11-03 00:33:05,436] Trial 58 failed with parameters: {'maxDepth': 3, 'maxBins': 92, 'numTrees': 286, 'stepSize': 0.010035767938246579} because of the following error: The value None could not be cast to float..\n",
      "[W 2023-11-03 00:33:05,438] Trial 58 failed with value None.\n",
      "[W 2023-11-03 00:33:07,500] Trial 59 failed with parameters: {'maxDepth': 3, 'maxBins': 91, 'numTrees': 294, 'stepSize': 0.011173944946310566} because of the following error: The value None could not be cast to float..\n",
      "[W 2023-11-03 00:33:07,500] Trial 59 failed with value None.\n",
      "[W 2023-11-03 00:33:09,546] Trial 60 failed with parameters: {'maxDepth': 3, 'maxBins': 92, 'numTrees': 296, 'stepSize': 0.010449868505666987} because of the following error: The value None could not be cast to float..\n",
      "[W 2023-11-03 00:33:09,546] Trial 60 failed with value None.\n",
      "[W 2023-11-03 00:33:11,595] Trial 61 failed with parameters: {'maxDepth': 3, 'maxBins': 92, 'numTrees': 294, 'stepSize': 0.014126234068322774} because of the following error: The value None could not be cast to float..\n",
      "[W 2023-11-03 00:33:11,595] Trial 61 failed with value None.\n",
      "[W 2023-11-03 00:33:13,625] Trial 62 failed with parameters: {'maxDepth': 3, 'maxBins': 91, 'numTrees': 300, 'stepSize': 0.010307846069087538} because of the following error: The value None could not be cast to float..\n",
      "[W 2023-11-03 00:33:13,625] Trial 62 failed with value None.\n",
      "[W 2023-11-03 00:33:15,657] Trial 63 failed with parameters: {'maxDepth': 3, 'maxBins': 88, 'numTrees': 297, 'stepSize': 0.011631357911187235} because of the following error: The value None could not be cast to float..\n",
      "[W 2023-11-03 00:33:15,657] Trial 63 failed with value None.\n",
      "[W 2023-11-03 00:33:17,687] Trial 64 failed with parameters: {'maxDepth': 3, 'maxBins': 88, 'numTrees': 293, 'stepSize': 0.010390525796435025} because of the following error: The value None could not be cast to float..\n",
      "[W 2023-11-03 00:33:17,687] Trial 64 failed with value None.\n",
      "[W 2023-11-03 00:33:19,734] Trial 65 failed with parameters: {'maxDepth': 3, 'maxBins': 96, 'numTrees': 296, 'stepSize': 0.010439280753384924} because of the following error: The value None could not be cast to float..\n",
      "[W 2023-11-03 00:33:19,734] Trial 65 failed with value None.\n",
      "[W 2023-11-03 00:33:21,785] Trial 66 failed with parameters: {'maxDepth': 3, 'maxBins': 91, 'numTrees': 299, 'stepSize': 0.011144254558705845} because of the following error: The value None could not be cast to float..\n",
      "[W 2023-11-03 00:33:21,785] Trial 66 failed with value None.\n",
      "[W 2023-11-03 00:33:23,834] Trial 67 failed with parameters: {'maxDepth': 3, 'maxBins': 93, 'numTrees': 297, 'stepSize': 0.010407958526953037} because of the following error: The value None could not be cast to float..\n",
      "[W 2023-11-03 00:33:23,834] Trial 67 failed with value None.\n",
      "[W 2023-11-03 00:33:25,867] Trial 68 failed with parameters: {'maxDepth': 3, 'maxBins': 90, 'numTrees': 296, 'stepSize': 0.010654659535949152} because of the following error: The value None could not be cast to float..\n",
      "[W 2023-11-03 00:33:25,867] Trial 68 failed with value None.\n",
      "[W 2023-11-03 00:33:27,916] Trial 69 failed with parameters: {'maxDepth': 3, 'maxBins': 93, 'numTrees': 297, 'stepSize': 0.010342851970406297} because of the following error: The value None could not be cast to float..\n",
      "[W 2023-11-03 00:33:27,917] Trial 69 failed with value None.\n",
      "[W 2023-11-03 00:33:29,982] Trial 70 failed with parameters: {'maxDepth': 3, 'maxBins': 92, 'numTrees': 298, 'stepSize': 0.010293509675965536} because of the following error: The value None could not be cast to float..\n",
      "[W 2023-11-03 00:33:29,983] Trial 70 failed with value None.\n",
      "[W 2023-11-03 00:33:32,032] Trial 71 failed with parameters: {'maxDepth': 3, 'maxBins': 91, 'numTrees': 294, 'stepSize': 0.010481708962706714} because of the following error: The value None could not be cast to float..\n",
      "[W 2023-11-03 00:33:32,033] Trial 71 failed with value None.\n",
      "[W 2023-11-03 00:33:34,081] Trial 72 failed with parameters: {'maxDepth': 3, 'maxBins': 92, 'numTrees': 295, 'stepSize': 0.010078376502350004} because of the following error: The value None could not be cast to float..\n",
      "[W 2023-11-03 00:33:34,083] Trial 72 failed with value None.\n",
      "[W 2023-11-03 00:33:36,132] Trial 73 failed with parameters: {'maxDepth': 3, 'maxBins': 95, 'numTrees': 292, 'stepSize': 0.011201741342948926} because of the following error: The value None could not be cast to float..\n",
      "[W 2023-11-03 00:33:36,133] Trial 73 failed with value None.\n",
      "[W 2023-11-03 00:33:38,181] Trial 74 failed with parameters: {'maxDepth': 3, 'maxBins': 86, 'numTrees': 297, 'stepSize': 0.010052819938870533} because of the following error: The value None could not be cast to float..\n",
      "[W 2023-11-03 00:33:38,182] Trial 74 failed with value None.\n",
      "[W 2023-11-03 00:33:40,232] Trial 75 failed with parameters: {'maxDepth': 3, 'maxBins': 87, 'numTrees': 290, 'stepSize': 0.01130620375716616} because of the following error: The value None could not be cast to float..\n",
      "[W 2023-11-03 00:33:40,232] Trial 75 failed with value None.\n",
      "[W 2023-11-03 00:33:42,282] Trial 76 failed with parameters: {'maxDepth': 3, 'maxBins': 84, 'numTrees': 298, 'stepSize': 0.011554602424660039} because of the following error: The value None could not be cast to float..\n",
      "[W 2023-11-03 00:33:42,282] Trial 76 failed with value None.\n",
      "[W 2023-11-03 00:33:44,332] Trial 77 failed with parameters: {'maxDepth': 3, 'maxBins': 89, 'numTrees': 294, 'stepSize': 0.010717920100259707} because of the following error: The value None could not be cast to float..\n",
      "[W 2023-11-03 00:33:44,332] Trial 77 failed with value None.\n",
      "[W 2023-11-03 00:33:46,381] Trial 78 failed with parameters: {'maxDepth': 3, 'maxBins': 88, 'numTrees': 298, 'stepSize': 0.011477303726268092} because of the following error: The value None could not be cast to float..\n",
      "[W 2023-11-03 00:33:46,381] Trial 78 failed with value None.\n",
      "[W 2023-11-03 00:33:48,431] Trial 79 failed with parameters: {'maxDepth': 3, 'maxBins': 92, 'numTrees': 300, 'stepSize': 0.011008599147281759} because of the following error: The value None could not be cast to float..\n",
      "[W 2023-11-03 00:33:48,431] Trial 79 failed with value None.\n",
      "[W 2023-11-03 00:33:50,497] Trial 80 failed with parameters: {'maxDepth': 3, 'maxBins': 92, 'numTrees': 286, 'stepSize': 0.010014635119970996} because of the following error: The value None could not be cast to float..\n",
      "[W 2023-11-03 00:33:50,497] Trial 80 failed with value None.\n",
      "[W 2023-11-03 00:33:52,563] Trial 81 failed with parameters: {'maxDepth': 5, 'maxBins': 95, 'numTrees': 298, 'stepSize': 0.010350697133862878} because of the following error: The value None could not be cast to float..\n",
      "[W 2023-11-03 00:33:52,564] Trial 81 failed with value None.\n",
      "[W 2023-11-03 00:33:54,613] Trial 82 failed with parameters: {'maxDepth': 3, 'maxBins': 94, 'numTrees': 58, 'stepSize': 0.010437510740012023} because of the following error: The value None could not be cast to float..\n",
      "[W 2023-11-03 00:33:54,614] Trial 82 failed with value None.\n",
      "[W 2023-11-03 00:33:56,679] Trial 83 failed with parameters: {'maxDepth': 3, 'maxBins': 90, 'numTrees': 55, 'stepSize': 0.010973380672950462} because of the following error: The value None could not be cast to float..\n",
      "[W 2023-11-03 00:33:56,680] Trial 83 failed with value None.\n",
      "[W 2023-11-03 00:33:58,713] Trial 84 failed with parameters: {'maxDepth': 3, 'maxBins': 95, 'numTrees': 297, 'stepSize': 0.010820998181343534} because of the following error: The value None could not be cast to float..\n"
     ]
    },
    {
     "name": "stderr",
     "output_type": "stream",
     "text": [
      "[W 2023-11-03 00:33:58,713] Trial 84 failed with value None.\n",
      "[W 2023-11-03 00:34:00,762] Trial 85 failed with parameters: {'maxDepth': 3, 'maxBins': 93, 'numTrees': 56, 'stepSize': 0.011385258848140855} because of the following error: The value None could not be cast to float..\n",
      "[W 2023-11-03 00:34:00,763] Trial 85 failed with value None.\n",
      "[W 2023-11-03 00:34:02,812] Trial 86 failed with parameters: {'maxDepth': 3, 'maxBins': 98, 'numTrees': 51, 'stepSize': 0.010342221330436741} because of the following error: The value None could not be cast to float..\n",
      "[W 2023-11-03 00:34:02,812] Trial 86 failed with value None.\n",
      "[W 2023-11-03 00:34:04,862] Trial 87 failed with parameters: {'maxDepth': 3, 'maxBins': 90, 'numTrees': 300, 'stepSize': 0.012098024164966024} because of the following error: The value None could not be cast to float..\n",
      "[W 2023-11-03 00:34:04,862] Trial 87 failed with value None.\n",
      "[W 2023-11-03 00:34:06,895] Trial 88 failed with parameters: {'maxDepth': 3, 'maxBins': 94, 'numTrees': 291, 'stepSize': 0.012399930493949971} because of the following error: The value None could not be cast to float..\n",
      "[W 2023-11-03 00:34:06,895] Trial 88 failed with value None.\n",
      "[W 2023-11-03 00:34:08,960] Trial 89 failed with parameters: {'maxDepth': 3, 'maxBins': 92, 'numTrees': 291, 'stepSize': 0.010259535381318099} because of the following error: The value None could not be cast to float..\n",
      "[W 2023-11-03 00:34:08,962] Trial 89 failed with value None.\n",
      "[W 2023-11-03 00:34:11,011] Trial 90 failed with parameters: {'maxDepth': 3, 'maxBins': 85, 'numTrees': 300, 'stepSize': 0.010089750949251365} because of the following error: The value None could not be cast to float..\n",
      "[W 2023-11-03 00:34:11,012] Trial 90 failed with value None.\n",
      "[W 2023-11-03 00:34:13,045] Trial 91 failed with parameters: {'maxDepth': 5, 'maxBins': 93, 'numTrees': 287, 'stepSize': 0.010028258172244188} because of the following error: The value None could not be cast to float..\n",
      "[W 2023-11-03 00:34:13,045] Trial 91 failed with value None.\n",
      "[W 2023-11-03 00:34:15,093] Trial 92 failed with parameters: {'maxDepth': 3, 'maxBins': 89, 'numTrees': 52, 'stepSize': 0.010424976375544766} because of the following error: The value None could not be cast to float..\n",
      "[W 2023-11-03 00:34:15,094] Trial 92 failed with value None.\n",
      "[W 2023-11-03 00:34:17,127] Trial 93 failed with parameters: {'maxDepth': 3, 'maxBins': 89, 'numTrees': 288, 'stepSize': 0.011792798640189025} because of the following error: The value None could not be cast to float..\n",
      "[W 2023-11-03 00:34:17,128] Trial 93 failed with value None.\n",
      "[W 2023-11-03 00:34:19,175] Trial 94 failed with parameters: {'maxDepth': 3, 'maxBins': 92, 'numTrees': 297, 'stepSize': 0.010074204988183316} because of the following error: The value None could not be cast to float..\n",
      "[W 2023-11-03 00:34:19,177] Trial 94 failed with value None.\n",
      "[W 2023-11-03 00:34:21,211] Trial 95 failed with parameters: {'maxDepth': 3, 'maxBins': 88, 'numTrees': 52, 'stepSize': 0.012053046310503489} because of the following error: The value None could not be cast to float..\n",
      "[W 2023-11-03 00:34:21,211] Trial 95 failed with value None.\n",
      "[W 2023-11-03 00:34:23,258] Trial 96 failed with parameters: {'maxDepth': 3, 'maxBins': 96, 'numTrees': 289, 'stepSize': 0.010889392245522166} because of the following error: The value None could not be cast to float..\n",
      "[W 2023-11-03 00:34:23,260] Trial 96 failed with value None.\n",
      "[W 2023-11-03 00:34:25,310] Trial 97 failed with parameters: {'maxDepth': 3, 'maxBins': 91, 'numTrees': 285, 'stepSize': 0.010950432817210986} because of the following error: The value None could not be cast to float..\n",
      "[W 2023-11-03 00:34:25,310] Trial 97 failed with value None.\n",
      "[W 2023-11-03 00:34:27,359] Trial 98 failed with parameters: {'maxDepth': 3, 'maxBins': 94, 'numTrees': 296, 'stepSize': 0.010203070422199883} because of the following error: The value None could not be cast to float..\n",
      "[W 2023-11-03 00:34:27,359] Trial 98 failed with value None.\n",
      "[W 2023-11-03 00:34:29,408] Trial 99 failed with parameters: {'maxDepth': 3, 'maxBins': 92, 'numTrees': 300, 'stepSize': 0.013832937862294028} because of the following error: The value None could not be cast to float..\n",
      "[W 2023-11-03 00:34:29,409] Trial 99 failed with value None.\n"
     ]
    }
   ],
   "source": [
    "# Crie um estudo Optuna para otimização de hiperparâmetros\n",
    "study = optuna.create_study(direction=\"minimize\")\n",
    "study.optimize(objective, n_trials=100)"
   ]
  },
  {
   "cell_type": "code",
   "execution_count": 20,
   "id": "7f3b6f6b",
   "metadata": {},
   "outputs": [],
   "source": [
    "# Obtendo os melhores hiperparâmetros:\n",
    "best_params = study.best_params"
   ]
  },
  {
   "cell_type": "code",
   "execution_count": 21,
   "id": "b6060649",
   "metadata": {},
   "outputs": [
    {
     "ename": "KeyError",
     "evalue": "'maxIter'",
     "output_type": "error",
     "traceback": [
      "\u001b[1;31m---------------------------------------------------------------------------\u001b[0m",
      "\u001b[1;31mKeyError\u001b[0m                                  Traceback (most recent call last)",
      "\u001b[1;32m~\\AppData\\Local\\Temp/ipykernel_15928/2118713141.py\u001b[0m in \u001b[0;36m<module>\u001b[1;34m\u001b[0m\n\u001b[0;32m      1\u001b[0m \u001b[1;31m# Defina os hiperparâmetros otimizados no modelo GBTRegressor\u001b[0m\u001b[1;33m\u001b[0m\u001b[1;33m\u001b[0m\u001b[0m\n\u001b[1;32m----> 2\u001b[1;33m \u001b[0mfinal_gbt\u001b[0m \u001b[1;33m=\u001b[0m \u001b[0mGBTRegressor\u001b[0m\u001b[1;33m(\u001b[0m\u001b[0mmaxDepth\u001b[0m\u001b[1;33m=\u001b[0m\u001b[0mbest_params\u001b[0m\u001b[1;33m[\u001b[0m\u001b[1;34m'maxDepth'\u001b[0m\u001b[1;33m]\u001b[0m\u001b[1;33m,\u001b[0m \u001b[0mmaxBins\u001b[0m\u001b[1;33m=\u001b[0m\u001b[0mbest_params\u001b[0m\u001b[1;33m[\u001b[0m\u001b[1;34m'maxBins'\u001b[0m\u001b[1;33m]\u001b[0m\u001b[1;33m,\u001b[0m \u001b[0mmaxIter\u001b[0m\u001b[1;33m=\u001b[0m\u001b[0mbest_params\u001b[0m\u001b[1;33m[\u001b[0m\u001b[1;34m'maxIter'\u001b[0m\u001b[1;33m]\u001b[0m\u001b[1;33m,\u001b[0m \u001b[0mstepSize\u001b[0m\u001b[1;33m=\u001b[0m\u001b[0mbest_params\u001b[0m\u001b[1;33m[\u001b[0m\u001b[1;34m'stepSize'\u001b[0m\u001b[1;33m]\u001b[0m\u001b[1;33m)\u001b[0m\u001b[1;33m\u001b[0m\u001b[1;33m\u001b[0m\u001b[0m\n\u001b[0m",
      "\u001b[1;31mKeyError\u001b[0m: 'maxIter'"
     ]
    }
   ],
   "source": [
    "# Defina os hiperparâmetros otimizados no modelo GBTRegressor\n",
    "final_gbt = GBTRegressor(maxDepth=best_params['maxDepth'], maxBins=best_params['maxBins'], maxIter=best_params['maxIter'], stepSize=best_params['stepSize'])"
   ]
  },
  {
   "cell_type": "code",
   "execution_count": null,
   "id": "9869486c",
   "metadata": {},
   "outputs": [],
   "source": [
    "# Defina o modelo no pipeline\n",
    "pipeline.setStages([rformula, final_gbt])"
   ]
  },
  {
   "cell_type": "code",
   "execution_count": null,
   "id": "eb6a7c3c",
   "metadata": {},
   "outputs": [],
   "source": [
    "# Ajuste o modelo aos dados de treinamento\n",
    "final_model = pipeline.fit(casasTreino)"
   ]
  },
  {
   "cell_type": "code",
   "execution_count": null,
   "id": "67b6175c",
   "metadata": {},
   "outputs": [],
   "source": [
    "# Faça previsões no conjunto de teste\n",
    "test_predictions = final_model.transform(casasTeste)"
   ]
  },
  {
   "cell_type": "code",
   "execution_count": null,
   "id": "8974625e",
   "metadata": {},
   "outputs": [],
   "source": [
    "# Avalie o modelo final (por exemplo, RMSE)\n",
    "rmse = evaluator.evaluate(test_predictions)"
   ]
  },
  {
   "cell_type": "code",
   "execution_count": null,
   "id": "47b8aa1d",
   "metadata": {},
   "outputs": [],
   "source": [
    "# Imprima os melhores hiperparâmetros e métricas de desempenho\n",
    "print(\"Melhores hiperparâmetros:\", best_params)\n",
    "print(\"RMSE:\", rmse)"
   ]
  }
 ],
 "metadata": {
  "kernelspec": {
   "display_name": "Python 3 (ipykernel)",
   "language": "python",
   "name": "python3"
  },
  "language_info": {
   "codemirror_mode": {
    "name": "ipython",
    "version": 3
   },
   "file_extension": ".py",
   "mimetype": "text/x-python",
   "name": "python",
   "nbconvert_exporter": "python",
   "pygments_lexer": "ipython3",
   "version": "3.9.7"
  }
 },
 "nbformat": 4,
 "nbformat_minor": 5
}
